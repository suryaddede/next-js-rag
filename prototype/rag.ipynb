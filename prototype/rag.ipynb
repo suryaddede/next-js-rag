{
  "cells": [
    {
      "cell_type": "markdown",
      "metadata": {
        "id": "view-in-github",
        "colab_type": "text"
      },
      "source": [
        "<a href=\"https://colab.research.google.com/github/suryaddede/next-js-rag/blob/master/prototype/rag.ipynb\" target=\"_parent\"><img src=\"https://colab.research.google.com/assets/colab-badge.svg\" alt=\"Open In Colab\"/></a>"
      ]
    },
    {
      "cell_type": "markdown",
      "metadata": {
        "id": "0fVcw3LOiNGq"
      },
      "source": [
        "# Install Package"
      ]
    },
    {
      "cell_type": "code",
      "execution_count": null,
      "metadata": {
        "id": "5DxoOsdzgYYE",
        "collapsed": true
      },
      "outputs": [],
      "source": [
        "!pip install -q langchain langchain-community langchain-google-genai langchain-chroma"
      ]
    },
    {
      "cell_type": "markdown",
      "metadata": {
        "id": "6ueHumwxMnfZ"
      },
      "source": [
        "# Set Environment Variable"
      ]
    },
    {
      "cell_type": "code",
      "execution_count": null,
      "metadata": {
        "id": "38nP5wrhNBJh"
      },
      "outputs": [],
      "source": [
        "import os\n",
        "from google.colab import userdata\n",
        "\n",
        "os.environ['USER_AGENT'] = userdata.get('USER_AGENT')\n",
        "os.environ['GOOGLE_API_KEY'] = userdata.get('GOOGLE_API_KEY')"
      ]
    },
    {
      "cell_type": "markdown",
      "metadata": {
        "id": "N1zfc_zWFV-f"
      },
      "source": [
        "# Import Library"
      ]
    },
    {
      "cell_type": "code",
      "execution_count": null,
      "metadata": {
        "id": "4DygGXL7FCCn"
      },
      "outputs": [],
      "source": [
        "from langchain import PromptTemplate\n",
        "from langchain import hub\n",
        "from langchain.docstore.document import Document\n",
        "from langchain.document_loaders import WebBaseLoader\n",
        "from langchain.schema import StrOutputParser\n",
        "from langchain.schema.prompt_template import format_document\n",
        "from langchain.schema.runnable import RunnablePassthrough\n",
        "from langchain_chroma import Chroma"
      ]
    },
    {
      "cell_type": "markdown",
      "metadata": {
        "id": "dqlehaZhHX8n"
      },
      "source": [
        "# Load Website Information"
      ]
    },
    {
      "cell_type": "code",
      "execution_count": null,
      "metadata": {
        "colab": {
          "base_uri": "https://localhost:8080/"
        },
        "id": "tOgKWRl1INYg",
        "outputId": "e6637e13-36d6-4b4c-e2e3-ceb39a785126"
      },
      "outputs": [
        {
          "output_type": "stream",
          "name": "stdout",
          "text": [
            "[Document(metadata={'source': 'https://sisfo.upnjatim.ac.id/struktur-organisasi/', 'title': 'STRUKTUR ORGANISASI | Sistem Informasi', 'language': 'en-US'}, page_content='\\n\\n\\n\\n\\n\\n\\nSTRUKTUR ORGANISASI | Sistem Informasi\\n\\n\\n\\n\\n\\n\\n\\n\\n\\n\\n\\n\\n\\n\\n\\n\\n\\n\\n\\n\\n\\n\\n\\n\\n\\n\\n\\n\\n\\n\\n\\n\\n\\n\\n\\n\\n\\n\\n\\n\\nHOME\\nPROFIL\\n\\nVISI KEILMUAN\\nSTRUKTUR ORGANISASI\\nPROFIL LULUSAN\\nDOSEN\\nTENDIK\\n\\n\\nTRI DHARMA\\n\\nKURIKULUM\\nPENELITIAN\\n\\nSOLUSI SI\\nMANAJEMEN SI\\n\\n\\nPENGABDIAN MASYARAKAT\\n\\n\\nINFORMASI\\n\\nBERITA PRODI\\nMBKM PRODI\\nLAYANAN AKADEMIK MAHASISWA\\n\\nPRAKTIK KERJA LAPANGAN\\nSEMINAR PROPOSAL\\nBIMBINGAN SKRIPSI\\nSEMINAR HASIL SKRIPSI\\n\\n\\nPENGUMUMAN\\nAGENDA\\nLABORATORIUM\\n\\nLab MSI\\nLab SOLUSI\\n\\n\\nJURNAL SIBC\\nLOWONGAN\\n\\n\\nPORTAL\\n\\nOBESESI\\nKREASI\\nKOORDINATOR SITASI\\nSITASI MAHASISWA\\nSITASI DOSEN\\nSIMPEL\\n\\n\\nSTUDENT PROJECTS\\nALUMNI\\n \\n\\n\\n\\n\\n\\nSelect Page\\n\\n\\n  \\n \\n\\n\\n\\n \\n\\n\\n\\n \\n\\n\\n\\n\\n\\n\\n\\n\\n\\nSTRUKTUR ORGANISASI\\n\\n \\n\\n\\n \\n\\n\\n\\n\\nKoordinator Program Studi\\nAgung Brastama Putra, S.Kom, M.Kom\\n\\xa0\\nKepala Laboratorium Solusi SI Eka Dyar Wahyuni, S.Kom, M.Kom\\nKepala Laboratorium Manajemen SI Dr. Tri Lathif Mardi Suryanto, S.Kom, M.T.\\n\\xa0\\n \\n \\n \\n \\n \\n  \\n  \\n \\n \\n\\n\\n\\n\\n\\n\\nFacebook\\n\\n\\n\\n\\nTwitter\\n\\n\\n\\n\\nInstagram\\n\\n\\nSistem Informasi Fasilkom UPNVJT @2022  \\n\\n \\n \\n \\n \\n\\n\\n\\n\\n\\n')]\n"
          ]
        }
      ],
      "source": [
        "loader = WebBaseLoader(\"https://sisfo.upnjatim.ac.id/struktur-organisasi/\")\n",
        "docs = loader.load()\n",
        "print(docs)"
      ]
    },
    {
      "cell_type": "markdown",
      "metadata": {
        "id": "0AD5_QdxOKgZ"
      },
      "source": [
        "# Extract Website Data"
      ]
    },
    {
      "cell_type": "code",
      "execution_count": null,
      "metadata": {
        "colab": {
          "base_uri": "https://localhost:8080/"
        },
        "id": "xZ1zPZCRRryS",
        "outputId": "4f035103-50be-4393-94c4-18bb6c3d64fa"
      },
      "outputs": [
        {
          "output_type": "stream",
          "name": "stdout",
          "text": [
            "[Document(metadata={'source': 'https://sisfo.upnjatim.ac.id/struktur-organisasi/', 'title': 'STRUKTUR ORGANISASI | Sistem Informasi', 'language': 'en-US'}, page_content='\\n\\n\\n\\n\\n\\n\\nSTRUKTUR ORGANISASI | Sistem Informasi\\n\\n\\n\\n\\n\\n\\n\\n\\n\\n\\n\\n\\n\\n\\n\\n\\n\\n\\n\\n\\n\\n\\n\\n\\n\\n\\n\\n\\n\\n\\n\\n\\n\\n\\n\\n\\n\\n\\n\\n\\nHOME\\nPROFIL\\n\\nVISI KEILMUAN\\nSTRUKTUR ORGANISASI\\nPROFIL LULUSAN\\nDOSEN\\nTENDIK\\n\\n\\nTRI DHARMA\\n\\nKURIKULUM\\nPENELITIAN\\n\\nSOLUSI SI\\nMANAJEMEN SI\\n\\n\\nPENGABDIAN MASYARAKAT\\n\\n\\nINFORMASI\\n\\nBERITA PRODI\\nMBKM PRODI\\nLAYANAN AKADEMIK MAHASISWA\\n\\nPRAKTIK KERJA LAPANGAN\\nSEMINAR PROPOSAL\\nBIMBINGAN SKRIPSI\\nSEMINAR HASIL SKRIPSI\\n\\n\\nPENGUMUMAN\\nAGENDA\\nLABORATORIUM\\n\\nLab MSI\\nLab SOLUSI\\n\\n\\nJURNAL SIBC\\nLOWONGAN\\n\\n\\nPORTAL\\n\\nOBESESI\\nKREASI\\nKOORDINATOR SITASI\\nSITASI MAHASISWA\\nSITASI DOSEN\\nSIMPEL\\n\\n\\nSTUDENT PROJECTS\\nALUMNI\\n \\n\\n\\n\\n\\n\\nSelect Page\\n\\n\\n  \\n \\n\\n\\n\\n \\n\\n\\n\\n \\n\\n\\n\\n\\n\\n\\n\\n\\n\\nSTRUKTUR ORGANISASI\\n\\n \\n\\n\\n \\n\\n\\n\\n\\nKoordinator Program Studi\\nAgung Brastama Putra, S.Kom, M.Kom\\n\\xa0\\nKepala Laboratorium Solusi SI Eka Dyar Wahyuni, S.Kom, M.Kom\\nKepala Laboratorium Manajemen SI Dr. Tri Lathif Mardi Suryanto, S.Kom, M.T.\\n\\xa0\\n \\n \\n \\n \\n \\n  \\n  \\n \\n \\n\\n\\n\\n\\n\\n\\nFacebook\\n\\n\\n\\n\\nTwitter\\n\\n\\n\\n\\nInstagram\\n\\n\\nSistem Informasi Fasilkom UPNVJT @2022  \\n\\n \\n \\n \\n \\n\\n\\n\\n\\n\\n')]\n"
          ]
        }
      ],
      "source": [
        "text_content = docs[0].page_content\n",
        "docs = [Document(page_content=text_content, metadata=docs[0].metadata)]\n",
        "print(docs)"
      ]
    },
    {
      "cell_type": "markdown",
      "metadata": {
        "id": "VAzDDCIbRn5K"
      },
      "source": [
        "# Initialize Embedding Model"
      ]
    },
    {
      "cell_type": "code",
      "execution_count": null,
      "metadata": {
        "id": "BrzpCAQqONUz"
      },
      "outputs": [],
      "source": [
        "from langchain_google_genai import GoogleGenerativeAIEmbeddings\n",
        "\n",
        "gemini_embeddings = GoogleGenerativeAIEmbeddings(model='models/text-embedding-004')"
      ]
    },
    {
      "cell_type": "markdown",
      "metadata": {
        "id": "PP1aVpGqS3C5"
      },
      "source": [
        "# Store the Data with ChromaDB"
      ]
    },
    {
      "cell_type": "code",
      "execution_count": null,
      "metadata": {
        "id": "QUQ-WHypS2ja"
      },
      "outputs": [],
      "source": [
        "vectorstore = Chroma.from_documents(\n",
        "                       documents=docs,\n",
        "                       embedding=gemini_embeddings,\n",
        "                       persist_directory='./drive/MyDrive/Kuliah/Semester 8 (6 SKS)/Skripsi/Proof Of Concept/ChromaDB'\n",
        "                     )"
      ]
    },
    {
      "cell_type": "markdown",
      "metadata": {
        "id": "f8vYKxqPVxKb"
      },
      "source": [
        "# Create a Retriever"
      ]
    },
    {
      "cell_type": "code",
      "execution_count": null,
      "metadata": {
        "id": "DGHpqVYqVz6j"
      },
      "outputs": [],
      "source": [
        "vectorstore_disk = Chroma(\n",
        "                     persist_directory='./drive/MyDrive/Kuliah/Semester 8 (6 SKS)/Skripsi/Proof Of Concept/ChromaDB',\n",
        "                     embedding_function=gemini_embeddings\n",
        "                   )\n",
        "retriever = vectorstore_disk.as_retriever(search_kwargs={'k': 1})"
      ]
    },
    {
      "cell_type": "markdown",
      "source": [
        "# Initialize Gemini"
      ],
      "metadata": {
        "id": "y9T3BS3zbztE"
      }
    },
    {
      "cell_type": "code",
      "source": [
        "from langchain_google_genai import GoogleGenerativeAI\n",
        "\n",
        "llm = GoogleGenerativeAI(model='gemini-exp-1206')"
      ],
      "metadata": {
        "id": "heAuJ9Jbb5XM"
      },
      "execution_count": null,
      "outputs": []
    },
    {
      "cell_type": "markdown",
      "source": [
        "# Create Prompt Template"
      ],
      "metadata": {
        "id": "92OnCb8wgizD"
      }
    },
    {
      "cell_type": "code",
      "source": [
        "llm_prompt_template = \"\"\"You are an assistant for question-answering tasks at Universitas Pembangunan Nasional \"Veteran\" Jawa Timur.\n",
        "Use the following context to answer the question.\n",
        "If you don't know the answer, just say that you don't know concisely.\n",
        "Use five sentences maximum and keep the answer concise.\\n\n",
        "Question: {question} \\nContext: {context} \\nAnswer:\"\"\"\n",
        "\n",
        "llm_prompt = PromptTemplate.from_template(llm_prompt_template)"
      ],
      "metadata": {
        "id": "TOiVhuwWglDr"
      },
      "execution_count": null,
      "outputs": []
    },
    {
      "cell_type": "markdown",
      "source": [
        "# Pass the Context to the Model along with the Question"
      ],
      "metadata": {
        "id": "6sBRlaOMhqbH"
      }
    },
    {
      "cell_type": "code",
      "source": [
        "def format_docs(docs):\n",
        "  return '\\n\\n'.join(doc.page_content for doc in docs)\n",
        "\n",
        "rag_chain = (\n",
        "  {\"context\": retriever | format_docs, \"question\": RunnablePassthrough()}\n",
        "  | llm_prompt\n",
        "  | llm\n",
        "  | StrOutputParser()\n",
        ")"
      ],
      "metadata": {
        "id": "aj6-fxT1h-M9"
      },
      "execution_count": null,
      "outputs": []
    },
    {
      "cell_type": "markdown",
      "source": [
        "# Prompt the Model"
      ],
      "metadata": {
        "id": "tcoyYN_NjJ6-"
      }
    },
    {
      "cell_type": "code",
      "source": [
        "rag_chain.invoke('Siapa koordinator prodi sistem informasi?')"
      ],
      "metadata": {
        "colab": {
          "base_uri": "https://localhost:8080/",
          "height": 53
        },
        "id": "hbSIjB9RjNX_",
        "outputId": "79710349-d326-444d-89a5-891afe0936b3"
      },
      "execution_count": null,
      "outputs": [
        {
          "output_type": "execute_result",
          "data": {
            "text/plain": [
              "'Koordinator Program Studi Sistem Informasi adalah Agung Brastama Putra, S.Kom, M.Kom. Beliau merupakan dosen di program studi tersebut. Dia bertanggung jawab atas koordinasi seluruh kegiatan di program studi. Informasi lebih lanjut dapat ditemukan di situs web resmi Sistem Informasi Fasilkom UPNVJT. Semoga informasi ini membantu.\\n'"
            ],
            "application/vnd.google.colaboratory.intrinsic+json": {
              "type": "string"
            }
          },
          "metadata": {},
          "execution_count": 16
        }
      ]
    }
  ],
  "metadata": {
    "colab": {
      "provenance": [],
      "include_colab_link": true
    },
    "kernelspec": {
      "display_name": "Python 3",
      "name": "python3"
    },
    "language_info": {
      "name": "python"
    }
  },
  "nbformat": 4,
  "nbformat_minor": 0
}